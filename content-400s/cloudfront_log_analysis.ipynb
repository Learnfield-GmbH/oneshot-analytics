{
 "cells": [
  {
   "cell_type": "code",
   "execution_count": 30,
   "metadata": {},
   "outputs": [],
   "source": [
    "import gzip\n",
    "import os\n",
    "import shutil\n",
    "import boto3\n",
    "from IPython import embed\n",
    "import pandas\n",
    "\n",
    "\n",
    "s3 = boto3.client('s3')\n",
    "\n",
    "bucket_name = 'skoove-aws-logs'\n",
    "# CloudWatch distro and date\n",
    "prefix = 'lesson_content/E151JJXT4MVQ3V.2024-04-24'\n",
    "\n",
    "# Create a directory to store the downloaded files\n",
    "if not os.path.exists('lesson_content'):\n",
    "    os.mkdir('lesson_content')\n",
    "\n",
    "def download_file(bucket_name, prefix):\n",
    "    # List all objects within the specified bucket with the specified prefix\n",
    "    response = s3.list_objects_v2(Bucket=bucket_name, Prefix=prefix)\n",
    "\n",
    "    if 'Contents' in response:\n",
    "        for item in response['Contents']:\n",
    "            file_name = item['Key']\n",
    "            # Download each file to the local file system\n",
    "            s3.download_file(bucket_name, file_name, file_name)\n",
    "    else:\n",
    "        print(\"No files found with the specified prefix.\")\n",
    "\n",
    "def unzip_all_files_in_dir(dir_name):\n",
    "    for filename in os.listdir(dir_name):\n",
    "    # Check if the file is a gzipped file\n",
    "        if filename.endswith('.gz'):\n",
    "            # Construct the full file path\n",
    "            file_path = os.path.join(dir_name, filename)\n",
    "            # Construct the output file path\n",
    "            output_path = os.path.join(dir_name, filename[:-3])  # remove '.gz' from filename\n",
    "\n",
    "            # Open the gzipped file, decompress it and write it to the output file\n",
    "            with gzip.open(file_path, 'rb') as f_in:\n",
    "                with open(output_path, 'wb') as f_out:\n",
    "                    shutil.copyfileobj(f_in, f_out)\n",
    "\n",
    "def load_dataframe(dir_name, headers, skiprows):\n",
    "    # Create an empty list to store the dataframes\n",
    "    dataframes = []\n",
    "    # Iterate over all files in the specified directory\n",
    "    for filename in os.listdir(dir_name):\n",
    "        # Check if the file is a CSV file\n",
    "        if not filename.endswith('.gz'):\n",
    "            # Construct the full file path\n",
    "\n",
    "            file_path = os.path.join(dir_name, filename)\n",
    "            # Load the CSV file into a pandas DataFrame\n",
    "            df = pandas.read_csv(\n",
    "                file_path,\n",
    "                delimiter='\\t',\n",
    "                skiprows=skiprows,\n",
    "                on_bad_lines='warn')\n",
    "            assert df.shape[1] == len(headers)\n",
    "            df.columns = headers\n",
    "            # Append the DataFrame to the list\n",
    "            dataframes.append(df)\n",
    "    # Concatenate all DataFrames in the list into a single DataFrame\n",
    "    return pandas.concat(dataframes, axis=0)\n",
    "\n",
    "download_file(bucket_name, prefix)\n",
    "unzip_all_files_in_dir('lesson_content')"
   ]
  },
  {
   "cell_type": "code",
   "execution_count": 31,
   "metadata": {},
   "outputs": [],
   "source": [
    "df = load_dataframe(\n",
    "\t'lesson_content',\n",
    "\t[\n",
    "\t\t'date', 'time', 'x-edge-location', 'sc-bytes', 'c-ip', 'cs-method', 'cs(Host)', 'cs-uri-stem', 'sc-status', 'cs(Referer)', 'cs(User-Agent)', 'cs-uri-query', 'cs(Cookie)', 'x-edge-result-type', 'x-edge-request-id', 'x-host-header', 'cs-protocol', 'cs-bytes', 'time-taken', 'x-forwarded-for', 'ssl-protocol', 'ssl-cipher', 'x-edge-response-result-type', 'cs-protocol-version', 'fle-status', 'fle-encrypted-fields', 'c-port', 'time-to-first-byte', 'x-edge-detailed-result-type', 'sc-content-type', 'sc-content-len', 'sc-range-start', 'sc-range-end'\n",
    "\t],\n",
    "\t2\n",
    ")"
   ]
  },
  {
   "cell_type": "markdown",
   "metadata": {},
   "source": [
    "Amount of 400 errors"
   ]
  },
  {
   "cell_type": "code",
   "execution_count": 32,
   "metadata": {},
   "outputs": [
    {
     "data": {
      "text/plain": [
       "3288"
      ]
     },
     "execution_count": 32,
     "metadata": {},
     "output_type": "execute_result"
    }
   ],
   "source": [
    "error_400 = df.loc[df['sc-status'] == 400]\n",
    "error_400.shape[0]"
   ]
  },
  {
   "cell_type": "markdown",
   "metadata": {},
   "source": [
    "#### 400-causing URIs\n",
    "\n",
    "Q: @workspace What does %25C0 mean in CloudFront logs?\n",
    "\n",
    "A:\n",
    "In CloudFront logs, `%25C0` is a URL-encoded string. It represents the `%C0` string when decoded. \n",
    "\n",
    "`%C0` is a URL-encoded representation of a non-printable ASCII character (a control character). In this case, it represents the ASCII `NULL` character. \n",
    "\n",
    "However, `%C0` is often used in a technique called `C0 control character encoding` to bypass security measures, as it can be used to represent [``/``](command:_github.copilot.openRelativePath?%5B%7B%22scheme%22%3A%22file%22%2C%22authority%22%3A%22%22%2C%22path%22%3A%22%2FUsers%2Fmartinfroehlich%2FDesktop%2FContent%20400%2F%22%2C%22query%22%3A%22%22%2C%22fragment%22%3A%22%22%7D%5D \"/Users/martinfroehlich/Desktop/Content 400/\") (`%C0%AF` in Unicode fullwidth form or `%C0%2F` in overlong form) or [``.``](command:_github.copilot.openRelativePath?%5B%7B%22scheme%22%3A%22file%22%2C%22authority%22%3A%22%22%2C%22path%22%3A%22%2FUsers%2Fmartinfroehlich%2FDesktop%2FContent%20400%22%2C%22query%22%3A%22%22%2C%22fragment%22%3A%22%22%7D%5D \"/Users/martinfroehlich/Desktop/Content 400\") (`%C0%AE` in Unicode fullwidth form or `%C0%2E` in overlong form) in a URL, which could lead to path traversal attacks if not properly handled. \n",
    "\n",
    "If you see `%25C0` in your logs, it's because the `%` character was also encoded to `%25`, resulting in `%25C0`. This might be a sign of someone trying to exploit a security vulnerability in your system."
   ]
  },
  {
   "cell_type": "code",
   "execution_count": 33,
   "metadata": {},
   "outputs": [
    {
     "data": {
      "text/plain": [
       "cs-uri-stem\n",
       "/%25C0                          405\n",
       "/%25C0/login                     62\n",
       "/%25C0/                          60\n",
       "/%25C0/index.php                 27\n",
       "/%25C0/Login.aspx                21\n",
       "/%25C0/login.html                20\n",
       "/%25C0/login.php                 19\n",
       "/%25C0/login/                    18\n",
       "/%25C0/index.html                18\n",
       "/%25C0/ui/                       16\n",
       "/%25C0/admin.php                 14\n",
       "/%25C0/admin/login/              11\n",
       "/%25C0/user/login                11\n",
       "/%25C0/favicon.ico               11\n",
       "/%25C0/auth/login                11\n",
       "/%25C0/user.php                  10\n",
       "/%25C0/admin/index.php           10\n",
       "/%25C0/accounts/login/           10\n",
       "/%25C0/dashboard/                 9\n",
       "/%25C0/webclient/Login.xhtml      8\n",
       "dtype: int64"
      ]
     },
     "execution_count": 33,
     "metadata": {},
     "output_type": "execute_result"
    }
   ],
   "source": [
    "error_400.groupby('cs-uri-stem').size().sort_values(ascending=False).head(20)\n"
   ]
  }
 ],
 "metadata": {
  "kernelspec": {
   "display_name": ".venv",
   "language": "python",
   "name": "python3"
  },
  "language_info": {
   "codemirror_mode": {
    "name": "ipython",
    "version": 3
   },
   "file_extension": ".py",
   "mimetype": "text/x-python",
   "name": "python",
   "nbconvert_exporter": "python",
   "pygments_lexer": "ipython3",
   "version": "3.12.2"
  }
 },
 "nbformat": 4,
 "nbformat_minor": 2
}
